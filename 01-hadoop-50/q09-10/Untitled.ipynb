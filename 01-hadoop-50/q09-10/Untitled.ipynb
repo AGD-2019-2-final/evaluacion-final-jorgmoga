{
 "cells": [
  {
   "cell_type": "code",
   "execution_count": 11,
   "metadata": {},
   "outputs": [
    {
     "name": "stdout",
     "output_type": "stream",
     "text": [
      "C\t1994-07-27\t1\n",
      "C\t1991-02-12\t2\n",
      "A\t1990-07-22\t4\n",
      "A\t1990-09-26\t5\n",
      "B\t1997-04-09\t6\n",
      "E\t1998-09-14\t7\n"
     ]
    }
   ],
   "source": [
    "!cat data.csv | python3 mapper.py | sort |  python3 reducer.py"
   ]
  },
  {
   "cell_type": "code",
   "execution_count": 9,
   "metadata": {},
   "outputs": [
    {
     "name": "stdout",
     "output_type": "stream",
     "text": [
      "1\t1\tC\t1994-07-27\n",
      "1\t2\tC\t1991-02-12\n",
      "1\t4\tA\t1990-07-22\n",
      "1\t5\tA\t1990-09-26\n",
      "1\t6\tB\t1997-04-09\n",
      "1\t7\tE\t1998-09-14\n",
      "1\t8\tE\t1993-01-27\n",
      "1\t9\tA\t1988-04-27\n",
      "2\t10\tA\t1990-10-06\n",
      "2\t10\tC\t1994-01-25\n",
      "2\t11\tA\t1990-09-05\n",
      "2\t11\tE\t1999-09-10\n",
      "2\t12\tA\t1990-08-31\n",
      "2\t12\tB\t1999-06-11\n",
      "2\t13\tA\t1994-10-25\n",
      "2\t13\tA\t1997-12-15\n",
      "2\t13\tB\t1998-11-22\n",
      "2\t14\tA\t1992-08-22\n",
      "2\t14\tB\t1993-03-02\n",
      "2\t14\tB\t1999-08-28\n",
      "2\t14\tE\t1991-02-18\n",
      "2\t15\tE\t1999-01-14\n",
      "2\t16\tA\t1993-05-08\n",
      "2\t16\tE\t1985-02-12\n",
      "2\t16\tE\t1990-05-03\n",
      "2\t17\tB\t1994-08-30\n",
      "2\t17\tE\t1993-07-21\n",
      "2\t18\tA\t1992-09-19\n",
      "2\t18\tE\t1990-02-09\n",
      "3\t101\tB\t1995-08-23\n",
      "3\t101\tE\t1994-02-14\n",
      "3\t121\tE\t1999-12-06\n",
      "3\t131\tB\t1999-10-21\n",
      "3\t141\tA\t1993-01-11\n",
      "3\t141\tB\t1995-09-06\n",
      "3\t151\tB\t1991-10-01\n",
      "3\t151\tC\t1994-09-09\n",
      "3\t151\tD\t1990-10-10\n",
      "3\t161\tE\t1995-04-25\n",
      "3\t181\tE\t1993-12-27\n"
     ]
    }
   ],
   "source": [
    "!cat data.csv | python3 mapper.py | sort "
   ]
  }
 ],
 "metadata": {
  "kernelspec": {
   "display_name": "Python 3",
   "language": "python",
   "name": "python3"
  },
  "language_info": {
   "codemirror_mode": {
    "name": "ipython",
    "version": 3
   },
   "file_extension": ".py",
   "mimetype": "text/x-python",
   "name": "python",
   "nbconvert_exporter": "python",
   "pygments_lexer": "ipython3",
   "version": "3.6.8"
  }
 },
 "nbformat": 4,
 "nbformat_minor": 4
}
