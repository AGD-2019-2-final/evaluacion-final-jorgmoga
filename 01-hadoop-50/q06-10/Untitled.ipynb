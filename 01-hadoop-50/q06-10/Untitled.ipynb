{
 "cells": [
  {
   "cell_type": "code",
   "execution_count": 7,
   "metadata": {},
   "outputs": [
    {
     "name": "stdout",
     "output_type": "stream",
     "text": [
      "A\t18.4\t10.7\n",
      "B\t17.0\t10.7\n",
      "C\t15.3\t10.2\n",
      "D\t15.1\t15.1\n",
      "E\t18.8\t10.5\n"
     ]
    }
   ],
   "source": [
    "!cat data.csv | python3 mapper.py | sort |  python3 reducer.py"
   ]
  },
  {
   "cell_type": "code",
   "execution_count": 2,
   "metadata": {},
   "outputs": [
    {
     "name": "stdout",
     "output_type": "stream",
     "text": [
      "B\t14.1\n",
      "E\t12.2\n",
      "E\t17.0\n",
      "C\t13.8\n",
      "E\t16.9\n",
      "A\t14.8\n",
      "B\t12.1\n",
      "E\t13.2\n",
      "E\t11.3\n",
      "E\t16.4\n",
      "E\t10.5\n",
      "A\t12.6\n",
      "A\t10.7\n",
      "E\t16.8\n",
      "E\t16.9\n",
      "B\t17.0\n",
      "A\t13.6\n",
      "B\t10.7\n",
      "B\t13.8\n",
      "B\t14.9\n",
      "E\t18.4\n",
      "E\t15.3\n",
      "A\t18.2\n",
      "B\t14.4\n",
      "B\t13.5\n",
      "A\t12.6\n",
      "C\t10.7\n",
      "E\t18.8\n",
      "A\t14.9\n",
      "A\t16.8\n",
      "B\t14.7\n",
      "E\t14.6\n",
      "A\t14.5\n",
      "A\t18.4\n",
      "C\t15.3\n",
      "C\t10.2\n",
      "D\t15.1\n",
      "A\t11.0\n",
      "B\t15.0\n",
      "A\t13.1\n"
     ]
    }
   ],
   "source": [
    "!cat data.csv | python3 mapper.py"
   ]
  }
 ],
 "metadata": {
  "kernelspec": {
   "display_name": "Python 3",
   "language": "python",
   "name": "python3"
  },
  "language_info": {
   "codemirror_mode": {
    "name": "ipython",
    "version": 3
   },
   "file_extension": ".py",
   "mimetype": "text/x-python",
   "name": "python",
   "nbconvert_exporter": "python",
   "pygments_lexer": "ipython3",
   "version": "3.6.8"
  }
 },
 "nbformat": 4,
 "nbformat_minor": 4
}
