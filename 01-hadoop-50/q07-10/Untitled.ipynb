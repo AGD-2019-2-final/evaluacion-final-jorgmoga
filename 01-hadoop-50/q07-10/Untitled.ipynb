{
 "cells": [
  {
   "cell_type": "code",
   "execution_count": 43,
   "metadata": {},
   "outputs": [
    {
     "name": "stdout",
     "output_type": "stream",
     "text": [
      "A\t1990-07-22\t0\n",
      "A\t1990-09-26\t8\n",
      "A\t1992-09-19\t9\n",
      "A\t1990-10-06\t10\n",
      "A\t1990-09-05\t11\n",
      "A\t1990-08-31\t12\n",
      "A\t1997-12-15\t13\n",
      "A\t1994-10-25\t14\n",
      "A\t1993-01-11\t15\n",
      "A\t1992-08-22\t16\n",
      "A\t1993-05-08\t17\n",
      "A\t1988-04-27\t121\n",
      "B\t1995-08-23\t1\n",
      "B\t1991-10-01\t9\n",
      "B\t1999-10-21\t13\n",
      "B\t1997-04-09\t14\n",
      "B\t1995-09-06\t15\n",
      "B\t1993-03-02\t16\n",
      "B\t1999-08-28\t17\n",
      "B\t1994-08-30\t18\n",
      "B\t1999-06-11\t121\n",
      "B\t1998-11-22\t131\n",
      "C\t1994-01-25\t10\n",
      "C\t1991-02-12\t13\n",
      "C\t1994-09-09\t15\n",
      "C\t1994-07-27\t104\n",
      "D\t1990-10-10\t15\n",
      "E\t1998-09-14\t2\n",
      "E\t1995-04-25\t3\n",
      "E\t1993-07-21\t4\n",
      "E\t1993-01-27\t9\n",
      "E\t1994-02-14\t10\n",
      "E\t1999-09-10\t11\n",
      "E\t1999-12-06\t12\n",
      "E\t1999-01-14\t15\n",
      "E\t1990-05-03\t16\n",
      "E\t1985-02-12\t17\n",
      "E\t1990-02-09\t18\n",
      "E\t1993-12-27\t19\n",
      "E\t1991-02-18\t141\n"
     ]
    }
   ],
   "source": [
    "!cat data.csv | python3 mapper.py | sort |  python3 reducer.py"
   ]
  },
  {
   "cell_type": "code",
   "execution_count": 34,
   "metadata": {},
   "outputs": [
    {
     "name": "stdout",
     "output_type": "stream",
     "text": [
      "E\t2\t1990-05-03\t16\n",
      "A\t1\t1992-09-19\t9\n",
      "A\t2\t1990-10-06\t10\n",
      "E\t2\t1994-02-14\t10\n",
      "E\t2\t1999-09-10\t11\n",
      "A\t2\t1992-08-22\t16\n",
      "A\t2\t1993-05-08\t17\n",
      "A\t3\t1988-04-27\t121\n",
      "B\t1\t1995-08-23\t1\n",
      "B\t1\t1991-10-01\t9\n",
      "B\t2\t1999-10-21\t13\n",
      "B\t2\t1997-04-09\t14\n",
      "B\t2\t1995-09-06\t15\n",
      "A\t2\t1990-08-31\t12\n",
      "A\t2\t1997-12-15\t13\n",
      "A\t2\t1994-10-25\t14\n",
      "B\t2\t1993-03-02\t16\n",
      "B\t2\t1999-08-28\t17\n",
      "E\t1\t1998-09-14\t2\n",
      "E\t1\t1995-04-25\t3\n",
      "E\t1\t1993-07-21\t4\n",
      "E\t2\t1985-02-12\t17\n",
      "E\t2\t1990-02-09\t18\n",
      "E\t2\t1993-12-27\t19\n",
      "E\t3\t1991-02-18\t141\n",
      "A\t1\t1990-07-22\t0\n",
      "A\t1\t1990-09-26\t8\n",
      "B\t3\t1999-06-11\t121\n",
      "B\t3\t1998-11-22\t131\n",
      "C\t2\t1994-01-25\t10\n",
      "C\t2\t1991-02-12\t13\n",
      "B\t2\t1994-08-30\t18\n",
      "C\t2\t1994-09-09\t15\n",
      "C\t3\t1994-07-27\t104\n",
      "D\t2\t1990-10-10\t15\n",
      "A\t2\t1990-09-05\t11\n",
      "A\t2\t1993-01-11\t15\n",
      "E\t1\t1993-01-27\t9\n",
      "E\t2\t1999-12-06\t12\n",
      "E\t2\t1999-01-14\t15\n"
     ]
    }
   ],
   "source": [
    "!cat data.csv | python3 mapper.py"
   ]
  }
 ],
 "metadata": {
  "kernelspec": {
   "display_name": "Python 3",
   "language": "python",
   "name": "python3"
  },
  "language_info": {
   "codemirror_mode": {
    "name": "ipython",
    "version": 3
   },
   "file_extension": ".py",
   "mimetype": "text/x-python",
   "name": "python",
   "nbconvert_exporter": "python",
   "pygments_lexer": "ipython3",
   "version": "3.6.8"
  }
 },
 "nbformat": 4,
 "nbformat_minor": 4
}
